{
 "cells": [
  {
   "cell_type": "markdown",
   "id": "0b0ea5ce-d1a5-4d06-a1b6-a10c78b2408b",
   "metadata": {},
   "source": [
    "### Assignment Code: DA-AG-009"
   ]
  },
  {
   "cell_type": "markdown",
   "id": "54195949-a8ff-4348-9b22-b76c0e7f8331",
   "metadata": {},
   "source": [
    "# EDA | Assignment"
   ]
  },
  {
   "cell_type": "markdown",
   "id": "bae13c66-5171-497c-b074-f1ae2d776143",
   "metadata": {},
   "source": [
    "   "
   ]
  },
  {
   "cell_type": "markdown",
   "id": "a205952b-363c-4bdb-9644-551f9765c2c7",
   "metadata": {},
   "source": [
    "#### Question 1: Read the Bike Details dataset into a Pandas DataFrame and display its first 10 rows. (Show the shape and column names as well.)"
   ]
  },
  {
   "cell_type": "code",
   "execution_count": 173,
   "id": "ac3362fa-2b13-4928-9280-5d92b1315040",
   "metadata": {},
   "outputs": [],
   "source": [
    "# Calling libraries\n",
    "import numpy as np \n",
    "import pandas as pd "
   ]
  },
  {
   "cell_type": "code",
   "execution_count": 174,
   "id": "3fd34502-4bd4-49c4-941f-e89ad2b4bbdf",
   "metadata": {},
   "outputs": [],
   "source": [
    "#loading Data Set\n",
    "\n",
    "df=pd.read_csv(\"BIKE DETAILS.CSV\")"
   ]
  },
  {
   "cell_type": "code",
   "execution_count": 175,
   "id": "46f7de3b-4997-460e-9811-29811456ed8c",
   "metadata": {},
   "outputs": [
    {
     "data": {
      "text/html": [
       "<div>\n",
       "<style scoped>\n",
       "    .dataframe tbody tr th:only-of-type {\n",
       "        vertical-align: middle;\n",
       "    }\n",
       "\n",
       "    .dataframe tbody tr th {\n",
       "        vertical-align: top;\n",
       "    }\n",
       "\n",
       "    .dataframe thead th {\n",
       "        text-align: right;\n",
       "    }\n",
       "</style>\n",
       "<table border=\"1\" class=\"dataframe\">\n",
       "  <thead>\n",
       "    <tr style=\"text-align: right;\">\n",
       "      <th></th>\n",
       "      <th>name</th>\n",
       "      <th>selling_price</th>\n",
       "      <th>year</th>\n",
       "      <th>seller_type</th>\n",
       "      <th>owner</th>\n",
       "      <th>km_driven</th>\n",
       "      <th>ex_showroom_price</th>\n",
       "    </tr>\n",
       "  </thead>\n",
       "  <tbody>\n",
       "    <tr>\n",
       "      <th>0</th>\n",
       "      <td>Royal Enfield Classic 350</td>\n",
       "      <td>175000</td>\n",
       "      <td>2019</td>\n",
       "      <td>Individual</td>\n",
       "      <td>1st owner</td>\n",
       "      <td>350</td>\n",
       "      <td>NaN</td>\n",
       "    </tr>\n",
       "    <tr>\n",
       "      <th>1</th>\n",
       "      <td>Honda Dio</td>\n",
       "      <td>45000</td>\n",
       "      <td>2017</td>\n",
       "      <td>Individual</td>\n",
       "      <td>1st owner</td>\n",
       "      <td>5650</td>\n",
       "      <td>NaN</td>\n",
       "    </tr>\n",
       "    <tr>\n",
       "      <th>2</th>\n",
       "      <td>Royal Enfield Classic Gunmetal Grey</td>\n",
       "      <td>150000</td>\n",
       "      <td>2018</td>\n",
       "      <td>Individual</td>\n",
       "      <td>1st owner</td>\n",
       "      <td>12000</td>\n",
       "      <td>148114.0</td>\n",
       "    </tr>\n",
       "    <tr>\n",
       "      <th>3</th>\n",
       "      <td>Yamaha Fazer FI V 2.0 [2016-2018]</td>\n",
       "      <td>65000</td>\n",
       "      <td>2015</td>\n",
       "      <td>Individual</td>\n",
       "      <td>1st owner</td>\n",
       "      <td>23000</td>\n",
       "      <td>89643.0</td>\n",
       "    </tr>\n",
       "    <tr>\n",
       "      <th>4</th>\n",
       "      <td>Yamaha SZ [2013-2014]</td>\n",
       "      <td>20000</td>\n",
       "      <td>2011</td>\n",
       "      <td>Individual</td>\n",
       "      <td>2nd owner</td>\n",
       "      <td>21000</td>\n",
       "      <td>NaN</td>\n",
       "    </tr>\n",
       "    <tr>\n",
       "      <th>...</th>\n",
       "      <td>...</td>\n",
       "      <td>...</td>\n",
       "      <td>...</td>\n",
       "      <td>...</td>\n",
       "      <td>...</td>\n",
       "      <td>...</td>\n",
       "      <td>...</td>\n",
       "    </tr>\n",
       "    <tr>\n",
       "      <th>1056</th>\n",
       "      <td>Activa 3g</td>\n",
       "      <td>17000</td>\n",
       "      <td>2010</td>\n",
       "      <td>Individual</td>\n",
       "      <td>1st owner</td>\n",
       "      <td>500000</td>\n",
       "      <td>52000.0</td>\n",
       "    </tr>\n",
       "    <tr>\n",
       "      <th>1057</th>\n",
       "      <td>Honda CB twister</td>\n",
       "      <td>16000</td>\n",
       "      <td>2012</td>\n",
       "      <td>Individual</td>\n",
       "      <td>1st owner</td>\n",
       "      <td>33000</td>\n",
       "      <td>51000.0</td>\n",
       "    </tr>\n",
       "    <tr>\n",
       "      <th>1058</th>\n",
       "      <td>Bajaj Discover 125</td>\n",
       "      <td>15000</td>\n",
       "      <td>2013</td>\n",
       "      <td>Individual</td>\n",
       "      <td>2nd owner</td>\n",
       "      <td>35000</td>\n",
       "      <td>57000.0</td>\n",
       "    </tr>\n",
       "    <tr>\n",
       "      <th>1059</th>\n",
       "      <td>Honda CB Shine</td>\n",
       "      <td>12000</td>\n",
       "      <td>2009</td>\n",
       "      <td>Individual</td>\n",
       "      <td>1st owner</td>\n",
       "      <td>53000</td>\n",
       "      <td>58000.0</td>\n",
       "    </tr>\n",
       "    <tr>\n",
       "      <th>1060</th>\n",
       "      <td>Bajaj Pulsar 150</td>\n",
       "      <td>10000</td>\n",
       "      <td>2008</td>\n",
       "      <td>Individual</td>\n",
       "      <td>1st owner</td>\n",
       "      <td>92233</td>\n",
       "      <td>75000.0</td>\n",
       "    </tr>\n",
       "  </tbody>\n",
       "</table>\n",
       "<p>1061 rows × 7 columns</p>\n",
       "</div>"
      ],
      "text/plain": [
       "                                     name  selling_price  year seller_type  \\\n",
       "0               Royal Enfield Classic 350         175000  2019  Individual   \n",
       "1                               Honda Dio          45000  2017  Individual   \n",
       "2     Royal Enfield Classic Gunmetal Grey         150000  2018  Individual   \n",
       "3       Yamaha Fazer FI V 2.0 [2016-2018]          65000  2015  Individual   \n",
       "4                   Yamaha SZ [2013-2014]          20000  2011  Individual   \n",
       "...                                   ...            ...   ...         ...   \n",
       "1056                            Activa 3g          17000  2010  Individual   \n",
       "1057                     Honda CB twister          16000  2012  Individual   \n",
       "1058                   Bajaj Discover 125          15000  2013  Individual   \n",
       "1059                       Honda CB Shine          12000  2009  Individual   \n",
       "1060                     Bajaj Pulsar 150          10000  2008  Individual   \n",
       "\n",
       "          owner  km_driven  ex_showroom_price  \n",
       "0     1st owner        350                NaN  \n",
       "1     1st owner       5650                NaN  \n",
       "2     1st owner      12000           148114.0  \n",
       "3     1st owner      23000            89643.0  \n",
       "4     2nd owner      21000                NaN  \n",
       "...         ...        ...                ...  \n",
       "1056  1st owner     500000            52000.0  \n",
       "1057  1st owner      33000            51000.0  \n",
       "1058  2nd owner      35000            57000.0  \n",
       "1059  1st owner      53000            58000.0  \n",
       "1060  1st owner      92233            75000.0  \n",
       "\n",
       "[1061 rows x 7 columns]"
      ]
     },
     "execution_count": 175,
     "metadata": {},
     "output_type": "execute_result"
    }
   ],
   "source": [
    "#generating Data Frame\n",
    "pd.DataFrame(df)"
   ]
  },
  {
   "cell_type": "code",
   "execution_count": 176,
   "id": "c0715ec9-35ba-44cd-8389-ee27e199b5d9",
   "metadata": {},
   "outputs": [
    {
     "data": {
      "text/html": [
       "<div>\n",
       "<style scoped>\n",
       "    .dataframe tbody tr th:only-of-type {\n",
       "        vertical-align: middle;\n",
       "    }\n",
       "\n",
       "    .dataframe tbody tr th {\n",
       "        vertical-align: top;\n",
       "    }\n",
       "\n",
       "    .dataframe thead th {\n",
       "        text-align: right;\n",
       "    }\n",
       "</style>\n",
       "<table border=\"1\" class=\"dataframe\">\n",
       "  <thead>\n",
       "    <tr style=\"text-align: right;\">\n",
       "      <th></th>\n",
       "      <th>name</th>\n",
       "      <th>selling_price</th>\n",
       "      <th>year</th>\n",
       "      <th>seller_type</th>\n",
       "      <th>owner</th>\n",
       "      <th>km_driven</th>\n",
       "      <th>ex_showroom_price</th>\n",
       "    </tr>\n",
       "  </thead>\n",
       "  <tbody>\n",
       "    <tr>\n",
       "      <th>0</th>\n",
       "      <td>Royal Enfield Classic 350</td>\n",
       "      <td>175000</td>\n",
       "      <td>2019</td>\n",
       "      <td>Individual</td>\n",
       "      <td>1st owner</td>\n",
       "      <td>350</td>\n",
       "      <td>NaN</td>\n",
       "    </tr>\n",
       "    <tr>\n",
       "      <th>1</th>\n",
       "      <td>Honda Dio</td>\n",
       "      <td>45000</td>\n",
       "      <td>2017</td>\n",
       "      <td>Individual</td>\n",
       "      <td>1st owner</td>\n",
       "      <td>5650</td>\n",
       "      <td>NaN</td>\n",
       "    </tr>\n",
       "    <tr>\n",
       "      <th>2</th>\n",
       "      <td>Royal Enfield Classic Gunmetal Grey</td>\n",
       "      <td>150000</td>\n",
       "      <td>2018</td>\n",
       "      <td>Individual</td>\n",
       "      <td>1st owner</td>\n",
       "      <td>12000</td>\n",
       "      <td>148114.0</td>\n",
       "    </tr>\n",
       "    <tr>\n",
       "      <th>3</th>\n",
       "      <td>Yamaha Fazer FI V 2.0 [2016-2018]</td>\n",
       "      <td>65000</td>\n",
       "      <td>2015</td>\n",
       "      <td>Individual</td>\n",
       "      <td>1st owner</td>\n",
       "      <td>23000</td>\n",
       "      <td>89643.0</td>\n",
       "    </tr>\n",
       "    <tr>\n",
       "      <th>4</th>\n",
       "      <td>Yamaha SZ [2013-2014]</td>\n",
       "      <td>20000</td>\n",
       "      <td>2011</td>\n",
       "      <td>Individual</td>\n",
       "      <td>2nd owner</td>\n",
       "      <td>21000</td>\n",
       "      <td>NaN</td>\n",
       "    </tr>\n",
       "    <tr>\n",
       "      <th>5</th>\n",
       "      <td>Honda CB Twister</td>\n",
       "      <td>18000</td>\n",
       "      <td>2010</td>\n",
       "      <td>Individual</td>\n",
       "      <td>1st owner</td>\n",
       "      <td>60000</td>\n",
       "      <td>53857.0</td>\n",
       "    </tr>\n",
       "    <tr>\n",
       "      <th>6</th>\n",
       "      <td>Honda CB Hornet 160R</td>\n",
       "      <td>78500</td>\n",
       "      <td>2018</td>\n",
       "      <td>Individual</td>\n",
       "      <td>1st owner</td>\n",
       "      <td>17000</td>\n",
       "      <td>87719.0</td>\n",
       "    </tr>\n",
       "    <tr>\n",
       "      <th>7</th>\n",
       "      <td>Royal Enfield Bullet 350 [2007-2011]</td>\n",
       "      <td>180000</td>\n",
       "      <td>2008</td>\n",
       "      <td>Individual</td>\n",
       "      <td>2nd owner</td>\n",
       "      <td>39000</td>\n",
       "      <td>NaN</td>\n",
       "    </tr>\n",
       "    <tr>\n",
       "      <th>8</th>\n",
       "      <td>Hero Honda CBZ extreme</td>\n",
       "      <td>30000</td>\n",
       "      <td>2010</td>\n",
       "      <td>Individual</td>\n",
       "      <td>1st owner</td>\n",
       "      <td>32000</td>\n",
       "      <td>NaN</td>\n",
       "    </tr>\n",
       "    <tr>\n",
       "      <th>9</th>\n",
       "      <td>Bajaj Discover 125</td>\n",
       "      <td>50000</td>\n",
       "      <td>2016</td>\n",
       "      <td>Individual</td>\n",
       "      <td>1st owner</td>\n",
       "      <td>42000</td>\n",
       "      <td>60122.0</td>\n",
       "    </tr>\n",
       "  </tbody>\n",
       "</table>\n",
       "</div>"
      ],
      "text/plain": [
       "                                   name  selling_price  year seller_type  \\\n",
       "0             Royal Enfield Classic 350         175000  2019  Individual   \n",
       "1                             Honda Dio          45000  2017  Individual   \n",
       "2   Royal Enfield Classic Gunmetal Grey         150000  2018  Individual   \n",
       "3     Yamaha Fazer FI V 2.0 [2016-2018]          65000  2015  Individual   \n",
       "4                 Yamaha SZ [2013-2014]          20000  2011  Individual   \n",
       "5                      Honda CB Twister          18000  2010  Individual   \n",
       "6                  Honda CB Hornet 160R          78500  2018  Individual   \n",
       "7  Royal Enfield Bullet 350 [2007-2011]         180000  2008  Individual   \n",
       "8                Hero Honda CBZ extreme          30000  2010  Individual   \n",
       "9                    Bajaj Discover 125          50000  2016  Individual   \n",
       "\n",
       "       owner  km_driven  ex_showroom_price  \n",
       "0  1st owner        350                NaN  \n",
       "1  1st owner       5650                NaN  \n",
       "2  1st owner      12000           148114.0  \n",
       "3  1st owner      23000            89643.0  \n",
       "4  2nd owner      21000                NaN  \n",
       "5  1st owner      60000            53857.0  \n",
       "6  1st owner      17000            87719.0  \n",
       "7  2nd owner      39000                NaN  \n",
       "8  1st owner      32000                NaN  \n",
       "9  1st owner      42000            60122.0  "
      ]
     },
     "execution_count": 176,
     "metadata": {},
     "output_type": "execute_result"
    }
   ],
   "source": [
    "# fetching 10 rows from top \n",
    "df.head(10)"
   ]
  },
  {
   "cell_type": "code",
   "execution_count": 14,
   "id": "2e9dfcbd-8ccb-43cf-b1a3-63da2df34847",
   "metadata": {},
   "outputs": [
    {
     "data": {
      "text/plain": [
       "(1061, 7)"
      ]
     },
     "execution_count": 14,
     "metadata": {},
     "output_type": "execute_result"
    }
   ],
   "source": [
    "# Identf\n",
    "df.shape"
   ]
  },
  {
   "cell_type": "code",
   "execution_count": 15,
   "id": "5a3b0bc3-6ef9-41e3-9dfc-3a2585f95bdc",
   "metadata": {},
   "outputs": [
    {
     "name": "stdout",
     "output_type": "stream",
     "text": [
      "<class 'pandas.core.frame.DataFrame'>\n",
      "RangeIndex: 1061 entries, 0 to 1060\n",
      "Data columns (total 7 columns):\n",
      " #   Column             Non-Null Count  Dtype  \n",
      "---  ------             --------------  -----  \n",
      " 0   name               1061 non-null   object \n",
      " 1   selling_price      1061 non-null   int64  \n",
      " 2   year               1061 non-null   int64  \n",
      " 3   seller_type        1061 non-null   object \n",
      " 4   owner              1061 non-null   object \n",
      " 5   km_driven          1061 non-null   int64  \n",
      " 6   ex_showroom_price  626 non-null    float64\n",
      "dtypes: float64(1), int64(3), object(3)\n",
      "memory usage: 58.2+ KB\n"
     ]
    }
   ],
   "source": [
    "df.info()"
   ]
  },
  {
   "cell_type": "markdown",
   "id": "fa418b3f-2149-472f-876d-5bd27d502224",
   "metadata": {},
   "source": [
    "#### Question 2: Check for missing values in all columns and describe your approach for handling them."
   ]
  },
  {
   "cell_type": "code",
   "execution_count": 51,
   "id": "45dda353-d674-4b97-80db-cb20635baedb",
   "metadata": {},
   "outputs": [],
   "source": [
    "import numpy as np \n",
    "import pandas as pd \n",
    "import matplotlib.pyplot as plt\n",
    "import seaborn as sns\n",
    "import warnings \n",
    "warnings.filterwarnings('ignore')"
   ]
  },
  {
   "cell_type": "code",
   "execution_count": 52,
   "id": "0f37363d-3b6d-4d38-92d0-aeb07fd8da93",
   "metadata": {},
   "outputs": [],
   "source": [
    "df=pd.read_csv(\"BIKE DETAILS.csv\")"
   ]
  },
  {
   "cell_type": "code",
   "execution_count": 57,
   "id": "362e4334-00e1-400a-9bb4-e8b4aea6d0b9",
   "metadata": {},
   "outputs": [],
   "source": [
    "price_data=df['ex_showroom_price'].dropna()\n"
   ]
  },
  {
   "cell_type": "code",
   "execution_count": 58,
   "id": "0b1a145b-5a9f-4d74-a4cb-f9121be62f06",
   "metadata": {},
   "outputs": [
    {
     "data": {
      "image/png": "[encoded data removed]",
      "text/plain": [
       "<Figure size 1400x600 with 1 Axes>"
      ]
     },
     "metadata": {},
     "output_type": "display_data"
    }
   ],
   "source": [
    "#checking data is skewed or normally distributed\n",
    "\n",
    "plt.figure(figsize=(14,6))\n",
    "\n",
    "plt.subplot(1,2,1)\n",
    "sns.histplot(price_data, bins=40, kde=True, color=\"blue\")\n",
    "plt.title(\"Histogram & KDE of ex-showroom Price\")\n",
    "plt.xlabel(\"ex-showroom Price\")\n",
    "plt.ylabel(\"Frequency\")\n",
    "plt.show()"
   ]
  },
  {
   "cell_type": "code",
   "execution_count": 59,
   "id": "aa200324-9ca3-4e8c-a25e-34f101e47a09",
   "metadata": {},
   "outputs": [],
   "source": [
    "# As data of ex-showroom price shows Right skewed in histogram & KDE  thats we are using Median to fill NA values"
   ]
  },
  {
   "cell_type": "code",
   "execution_count": 60,
   "id": "e9d00a89-c208-4a21-aa4d-e4da5bb38557",
   "metadata": {},
   "outputs": [
    {
     "data": {
      "text/plain": [
       "name                   0\n",
       "selling_price          0\n",
       "year                   0\n",
       "seller_type            0\n",
       "owner                  0\n",
       "km_driven              0\n",
       "ex_showroom_price    435\n",
       "dtype: int64"
      ]
     },
     "execution_count": 60,
     "metadata": {},
     "output_type": "execute_result"
    }
   ],
   "source": [
    "#checking missing value\n",
    "df.isnull().sum()"
   ]
  },
  {
   "cell_type": "code",
   "execution_count": 61,
   "id": "739360aa-9445-4ac8-864e-7b42f918a6ce",
   "metadata": {},
   "outputs": [],
   "source": [
    "#filling missing values in 'ex_showroom_price' with the median\n",
    "df['ex_showroom_price'].fillna(df['ex_showroom_price'].median(), inplace=True)"
   ]
  },
  {
   "cell_type": "code",
   "execution_count": 63,
   "id": "323364e3-dc89-471c-b279-103131494b8b",
   "metadata": {},
   "outputs": [
    {
     "data": {
      "text/html": [
       "<div>\n",
       "<style scoped>\n",
       "    .dataframe tbody tr th:only-of-type {\n",
       "        vertical-align: middle;\n",
       "    }\n",
       "\n",
       "    .dataframe tbody tr th {\n",
       "        vertical-align: top;\n",
       "    }\n",
       "\n",
       "    .dataframe thead th {\n",
       "        text-align: right;\n",
       "    }\n",
       "</style>\n",
       "<table border=\"1\" class=\"dataframe\">\n",
       "  <thead>\n",
       "    <tr style=\"text-align: right;\">\n",
       "      <th></th>\n",
       "      <th>name</th>\n",
       "      <th>selling_price</th>\n",
       "      <th>year</th>\n",
       "      <th>seller_type</th>\n",
       "      <th>owner</th>\n",
       "      <th>km_driven</th>\n",
       "      <th>ex_showroom_price</th>\n",
       "    </tr>\n",
       "  </thead>\n",
       "  <tbody>\n",
       "    <tr>\n",
       "      <th>0</th>\n",
       "      <td>Royal Enfield Classic 350</td>\n",
       "      <td>175000</td>\n",
       "      <td>2019</td>\n",
       "      <td>Individual</td>\n",
       "      <td>1st owner</td>\n",
       "      <td>350</td>\n",
       "      <td>72752.5</td>\n",
       "    </tr>\n",
       "    <tr>\n",
       "      <th>1</th>\n",
       "      <td>Honda Dio</td>\n",
       "      <td>45000</td>\n",
       "      <td>2017</td>\n",
       "      <td>Individual</td>\n",
       "      <td>1st owner</td>\n",
       "      <td>5650</td>\n",
       "      <td>72752.5</td>\n",
       "    </tr>\n",
       "    <tr>\n",
       "      <th>2</th>\n",
       "      <td>Royal Enfield Classic Gunmetal Grey</td>\n",
       "      <td>150000</td>\n",
       "      <td>2018</td>\n",
       "      <td>Individual</td>\n",
       "      <td>1st owner</td>\n",
       "      <td>12000</td>\n",
       "      <td>148114.0</td>\n",
       "    </tr>\n",
       "    <tr>\n",
       "      <th>3</th>\n",
       "      <td>Yamaha Fazer FI V 2.0 [2016-2018]</td>\n",
       "      <td>65000</td>\n",
       "      <td>2015</td>\n",
       "      <td>Individual</td>\n",
       "      <td>1st owner</td>\n",
       "      <td>23000</td>\n",
       "      <td>89643.0</td>\n",
       "    </tr>\n",
       "    <tr>\n",
       "      <th>4</th>\n",
       "      <td>Yamaha SZ [2013-2014]</td>\n",
       "      <td>20000</td>\n",
       "      <td>2011</td>\n",
       "      <td>Individual</td>\n",
       "      <td>2nd owner</td>\n",
       "      <td>21000</td>\n",
       "      <td>72752.5</td>\n",
       "    </tr>\n",
       "    <tr>\n",
       "      <th>...</th>\n",
       "      <td>...</td>\n",
       "      <td>...</td>\n",
       "      <td>...</td>\n",
       "      <td>...</td>\n",
       "      <td>...</td>\n",
       "      <td>...</td>\n",
       "      <td>...</td>\n",
       "    </tr>\n",
       "    <tr>\n",
       "      <th>1056</th>\n",
       "      <td>Activa 3g</td>\n",
       "      <td>17000</td>\n",
       "      <td>2010</td>\n",
       "      <td>Individual</td>\n",
       "      <td>1st owner</td>\n",
       "      <td>500000</td>\n",
       "      <td>52000.0</td>\n",
       "    </tr>\n",
       "    <tr>\n",
       "      <th>1057</th>\n",
       "      <td>Honda CB twister</td>\n",
       "      <td>16000</td>\n",
       "      <td>2012</td>\n",
       "      <td>Individual</td>\n",
       "      <td>1st owner</td>\n",
       "      <td>33000</td>\n",
       "      <td>51000.0</td>\n",
       "    </tr>\n",
       "    <tr>\n",
       "      <th>1058</th>\n",
       "      <td>Bajaj Discover 125</td>\n",
       "      <td>15000</td>\n",
       "      <td>2013</td>\n",
       "      <td>Individual</td>\n",
       "      <td>2nd owner</td>\n",
       "      <td>35000</td>\n",
       "      <td>57000.0</td>\n",
       "    </tr>\n",
       "    <tr>\n",
       "      <th>1059</th>\n",
       "      <td>Honda CB Shine</td>\n",
       "      <td>12000</td>\n",
       "      <td>2009</td>\n",
       "      <td>Individual</td>\n",
       "      <td>1st owner</td>\n",
       "      <td>53000</td>\n",
       "      <td>58000.0</td>\n",
       "    </tr>\n",
       "    <tr>\n",
       "      <th>1060</th>\n",
       "      <td>Bajaj Pulsar 150</td>\n",
       "      <td>10000</td>\n",
       "      <td>2008</td>\n",
       "      <td>Individual</td>\n",
       "      <td>1st owner</td>\n",
       "      <td>92233</td>\n",
       "      <td>75000.0</td>\n",
       "    </tr>\n",
       "  </tbody>\n",
       "</table>\n",
       "<p>1061 rows × 7 columns</p>\n",
       "</div>"
      ],
      "text/plain": [
       "                                     name  selling_price  year seller_type  \\\n",
       "0               Royal Enfield Classic 350         175000  2019  Individual   \n",
       "1                               Honda Dio          45000  2017  Individual   \n",
       "2     Royal Enfield Classic Gunmetal Grey         150000  2018  Individual   \n",
       "3       Yamaha Fazer FI V 2.0 [2016-2018]          65000  2015  Individual   \n",
       "4                   Yamaha SZ [2013-2014]          20000  2011  Individual   \n",
       "...                                   ...            ...   ...         ...   \n",
       "1056                            Activa 3g          17000  2010  Individual   \n",
       "1057                     Honda CB twister          16000  2012  Individual   \n",
       "1058                   Bajaj Discover 125          15000  2013  Individual   \n",
       "1059                       Honda CB Shine          12000  2009  Individual   \n",
       "1060                     Bajaj Pulsar 150          10000  2008  Individual   \n",
       "\n",
       "          owner  km_driven  ex_showroom_price  \n",
       "0     1st owner        350            72752.5  \n",
       "1     1st owner       5650            72752.5  \n",
       "2     1st owner      12000           148114.0  \n",
       "3     1st owner      23000            89643.0  \n",
       "4     2nd owner      21000            72752.5  \n",
       "...         ...        ...                ...  \n",
       "1056  1st owner     500000            52000.0  \n",
       "1057  1st owner      33000            51000.0  \n",
       "1058  2nd owner      35000            57000.0  \n",
       "1059  1st owner      53000            58000.0  \n",
       "1060  1st owner      92233            75000.0  \n",
       "\n",
       "[1061 rows x 7 columns]"
      ]
     },
     "execution_count": 63,
     "metadata": {},
     "output_type": "execute_result"
    }
   ],
   "source": [
    "#verifying missing value handled\n",
    "df"
   ]
  },
  {
   "cell_type": "markdown",
   "id": "d5f8132f-0603-4401-b867-61214c1f8d7a",
   "metadata": {},
   "source": [
    "#### Question 3: Plot the distribution of selling prices using a histogram and describe the overall trend."
   ]
  },
  {
   "cell_type": "code",
   "execution_count": 67,
   "id": "73ff0b62-42d8-4344-b4a3-27566ba2bd1d",
   "metadata": {},
   "outputs": [],
   "source": [
    "# calling libraries to plot histogram \n",
    "import numpy as np \n",
    "import pandas as pd \n",
    "import matplotlib.pyplot as plt\n",
    "import seaborn as sns\n",
    "\n",
    "import warnings \n",
    "warnings.filterwarnings('ignore')"
   ]
  },
  {
   "cell_type": "code",
   "execution_count": 70,
   "id": "b004c091-7061-42a2-a2b0-37c32a4fad2b",
   "metadata": {},
   "outputs": [
    {
     "data": {
      "image/png": "[encoded data removed]",
      "text/plain": [
       "<Figure size 1000x600 with 1 Axes>"
      ]
     },
     "metadata": {},
     "output_type": "display_data"
    }
   ],
   "source": [
    "# Plot histogram of selling prices\n",
    "plt.figure(figsize=(10,6))\n",
    "sns.histplot(df['selling_price'], bins=40, kde=True, color='red')\n",
    "plt.title(\"Distribution of selling price\")\n",
    "plt.xlabel(\"Selling price\")\n",
    "plt.ylabel(\"Frequency\")\n",
    "plt.show()"
   ]
  },
  {
   "cell_type": "markdown",
   "id": "f62c6317-41f7-449f-a036-4ea2cbcd95d2",
   "metadata": {},
   "source": [
    "- As the histogram shows peak at lower prices it and long right tails it means:\n",
    "    - Most bikes are affordabel \n",
    "    - A few expensive bikes exist, causing right skewness.\n",
    "\n",
    "\n",
    "As the peek is on lower price and long right tails to higher price that why it is Right- Skewed"
   ]
  },
  {
   "cell_type": "markdown",
   "id": "e20bdab0-fea2-47ba-b659-591aecab8632",
   "metadata": {},
   "source": [
    "#### Question 4: Create a bar plot to visualize the average selling price for each seller_type and write one observation."
   ]
  },
  {
   "cell_type": "code",
   "execution_count": 86,
   "id": "b43682d5-a0d7-4390-abd8-81d1d503bda1",
   "metadata": {},
   "outputs": [],
   "source": [
    "# calling library to identify the average selling price \n",
    "import numpy as np \n",
    "import pandas as pd \n",
    "import matplotlib.pyplot as plt \n",
    "import seaborn as sns \n",
    "\n",
    "import warnings \n",
    "warnings.filterwarnings('ignore')"
   ]
  },
  {
   "cell_type": "code",
   "execution_count": 87,
   "id": "fdab8825-d649-42ae-b063-84f58eeb3403",
   "metadata": {},
   "outputs": [],
   "source": [
    "#loading the data set \n",
    "df=pd.read_csv('BIKE DETAILS.csv')"
   ]
  },
  {
   "cell_type": "code",
   "execution_count": 88,
   "id": "37de8bc0-67ba-4ee9-b13c-8a4d6a62924e",
   "metadata": {},
   "outputs": [],
   "source": [
    "#identifying average selling price of each seller type\n",
    "avg_selling_price= df.groupby('seller_type')['selling_price'].mean().sort_values()"
   ]
  },
  {
   "cell_type": "code",
   "execution_count": 89,
   "id": "31540256-05fc-46d5-9c33-6a7d385daea4",
   "metadata": {},
   "outputs": [
    {
     "data": {
      "text/plain": [
       "seller_type\n",
       "Dealer        46666.666667\n",
       "Individual    59711.923223\n",
       "Name: selling_price, dtype: float64"
      ]
     },
     "execution_count": 89,
     "metadata": {},
     "output_type": "execute_result"
    }
   ],
   "source": [
    "#checking identified average selling price of each seller_type\n",
    "avg_selling_price"
   ]
  },
  {
   "cell_type": "code",
   "execution_count": 90,
   "id": "279cce19-6843-4deb-873d-5793bbfb52c3",
   "metadata": {},
   "outputs": [
    {
     "data": {
      "image/png": "[encoded data removed]",
      "text/plain": [
       "<Figure size 800x500 with 1 Axes>"
      ]
     },
     "metadata": {},
     "output_type": "display_data"
    }
   ],
   "source": [
    "# plotting barplot of average selling price of each seller type\n",
    "\n",
    "plt.figure(figsize=(8,5))\n",
    "\n",
    "sns.barplot(x=avg_selling_price.index, y=avg_selling_price.values, palette=\"viridis\")\n",
    "\n",
    "plt.title(\"Average selling price by seller type\")\n",
    "plt.xlabel(\"Seller Type\")\n",
    "plt.ylabel(\"Average Selling Price\")\n",
    "plt.xticks(rotation=15)\n",
    "plt.show()\n"
   ]
  },
  {
   "cell_type": "markdown",
   "id": "66ab8c8a-c4d3-42fd-a383-c7d98a497fee",
   "metadata": {},
   "source": [
    "- Dealer seller have lesser average selling prices because they deal with newer, premium,and bulk selling bike to individual or other seller.\n",
    "\n",
    "- Individual sellers usually have high average selling prices because they are selling 1st owner, 2nd owner, etc. types bikes to end customer which is not in bulk selling ."
   ]
  },
  {
   "cell_type": "markdown",
   "id": "05fcd161-4fd4-49ee-8662-4be474e40893",
   "metadata": {},
   "source": [
    "#### Question 5: Compute the average km_driven for each ownership type (1st owner, 2nd owner, etc.), and present the result as a bar plot."
   ]
  },
  {
   "cell_type": "code",
   "execution_count": 100,
   "id": "1a2777c4-05ed-402a-a4cb-3164990e5d4b",
   "metadata": {},
   "outputs": [],
   "source": [
    "# calling libraries to plot bar plot to compute average km_driven for each ownership type.\n",
    "import numpy as np \n",
    "import pandas as pd \n",
    "import matplotlib.pyplot as plt\n",
    "import seaborn as sns \n",
    "\n",
    "import warnings\n",
    "warnings.filterwarnings('ignore')"
   ]
  },
  {
   "cell_type": "code",
   "execution_count": 101,
   "id": "731b5397-e7b9-4a5a-832e-c8916de3a8de",
   "metadata": {},
   "outputs": [],
   "source": [
    "# Loading data set \n",
    "df= pd.read_csv(\"BIKE DETAILS.csv\")"
   ]
  },
  {
   "cell_type": "code",
   "execution_count": 102,
   "id": "15593605-1c21-45b2-a3b8-cf24680814e4",
   "metadata": {},
   "outputs": [],
   "source": [
    "#identifying average km_driven by each owner\n",
    "avg_km_driven= df.groupby('owner')['km_driven'].mean().sort_values()"
   ]
  },
  {
   "cell_type": "code",
   "execution_count": 103,
   "id": "d9c0d364-6bba-443d-a851-54075352c283",
   "metadata": {},
   "outputs": [
    {
     "data": {
      "image/png": "[encoded data removed]",
      "text/plain": [
       "<Figure size 640x480 with 1 Axes>"
      ]
     },
     "metadata": {},
     "output_type": "display_data"
    }
   ],
   "source": [
    "#ploting average_km_driven by each owner on bar plot\n",
    "\n",
    "sns.barplot(x=avg_km_driven.index , y=avg_km_driven.values, palette='viridis')\n",
    "plt.title(\"Average Km-Driven\")\n",
    "plt.xlabel(\"Ownership Type\")\n",
    "plt.ylabel(\"Average Km-Driven\")\n",
    "plt.show()"
   ]
  },
  {
   "cell_type": "markdown",
   "id": "be5ba1de-7ed4-4fc2-a1ba-61fbe15ffafb",
   "metadata": {},
   "source": [
    "#### Question 6: Use the IQR method to detect and remove outliers from the km_driven column. Show before-and-after summary statistics"
   ]
  },
  {
   "cell_type": "code",
   "execution_count": 104,
   "id": "e1815f1a-2cec-4b2f-b8c2-7dca2caef176",
   "metadata": {},
   "outputs": [],
   "source": [
    "import pandas as pd"
   ]
  },
  {
   "cell_type": "code",
   "execution_count": 105,
   "id": "b4f6d289-a3ee-48a7-b633-6de734547153",
   "metadata": {},
   "outputs": [],
   "source": [
    "df=pd.read_csv(\"BIKE DETAILS.csv\")"
   ]
  },
  {
   "cell_type": "code",
   "execution_count": 120,
   "id": "876f53e8-55f5-4a50-bda1-2449768dc78a",
   "metadata": {},
   "outputs": [
    {
     "data": {
      "text/plain": [
       "count      1061.000000\n",
       "mean      34359.833176\n",
       "std       51623.152702\n",
       "min         350.000000\n",
       "25%       13500.000000\n",
       "50%       25000.000000\n",
       "75%       43000.000000\n",
       "max      880000.000000\n",
       "Name: km_driven, dtype: float64"
      ]
     },
     "execution_count": 120,
     "metadata": {},
     "output_type": "execute_result"
    }
   ],
   "source": [
    "# Summary statistics Before outliers\n",
    "df['km_driven'].describe()"
   ]
  },
  {
   "cell_type": "code",
   "execution_count": 112,
   "id": "c3b06c21-1e43-4c84-91d7-fac794ba9ae5",
   "metadata": {},
   "outputs": [],
   "source": [
    "# IQR Calculation\n",
    "\n",
    "Q1= df['km_driven'].quantile(0.25)\n",
    "Q2=df['km_driven'].quantile(0.75)\n",
    "IQR=Q2-Q1"
   ]
  },
  {
   "cell_type": "code",
   "execution_count": 114,
   "id": "474ca2d9-f1c8-4a12-98ad-8f002deab1a5",
   "metadata": {},
   "outputs": [],
   "source": [
    "#Defining lowewr and upper limit\n",
    "lower_limit=Q1-1.5 * IQR\n",
    "upper_limit=Q2+1.5 * IQR\n",
    "\n",
    "#filter dataset to remove outliers\n",
    "df_no_outliers= df[(df['km_driven'] >=lower_limit) & (df['km_driven'] <= upper_limit)]"
   ]
  },
  {
   "cell_type": "code",
   "execution_count": 121,
   "id": "cc907584-dcd9-4a12-a4eb-081e5ae82bdd",
   "metadata": {},
   "outputs": [
    {
     "data": {
      "text/plain": [
       "count     1022.000000\n",
       "mean     28203.415851\n",
       "std      19552.083583\n",
       "min        350.000000\n",
       "25%      13000.000000\n",
       "50%      24000.000000\n",
       "75%      40000.000000\n",
       "max      86000.000000\n",
       "Name: km_driven, dtype: float64"
      ]
     },
     "execution_count": 121,
     "metadata": {},
     "output_type": "execute_result"
    }
   ],
   "source": [
    "#Summary statistics after removing outliers \n",
    "df_no_outliers['km_driven'].describe()"
   ]
  },
  {
   "cell_type": "code",
   "execution_count": 125,
   "id": "7143c555-5d84-40f2-bd60-63051bd6ec06",
   "metadata": {},
   "outputs": [],
   "source": [
    "#checking how many rows are removed \n",
    "\n",
    "outlier_Removed= df.shape[0]-df_no_outliers.shape[0]"
   ]
  },
  {
   "cell_type": "code",
   "execution_count": 126,
   "id": "e41b67dc-f698-4d93-a298-c397ddd961c1",
   "metadata": {},
   "outputs": [
    {
     "data": {
      "text/plain": [
       "39"
      ]
     },
     "execution_count": 126,
     "metadata": {},
     "output_type": "execute_result"
    }
   ],
   "source": [
    "outlier_Removed"
   ]
  },
  {
   "cell_type": "markdown",
   "id": "0440e463-fb09-42c3-9a0f-dbf21efaa002",
   "metadata": {},
   "source": [
    "#### Question 7: Create a scatter plot of year vs. selling_price to explore the relationship between a bike's age and its price."
   ]
  },
  {
   "cell_type": "code",
   "execution_count": 156,
   "id": "9c70884f-731e-44ce-b035-148652122a72",
   "metadata": {},
   "outputs": [],
   "source": [
    "#calling libraries to draw scatter plot\n",
    "\n",
    "import numpy as np \n",
    "import pandas as pd \n",
    "import matplotlib.pyplot as plt\n",
    "import warnings\n",
    "warnings.filterwarnings('ignore')"
   ]
  },
  {
   "cell_type": "code",
   "execution_count": 130,
   "id": "9f29681a-ed58-409a-8aca-446441bb9579",
   "metadata": {},
   "outputs": [],
   "source": [
    "df= pd.read_csv(\"BIKE DETAILS.csv\")"
   ]
  },
  {
   "cell_type": "code",
   "execution_count": 158,
   "id": "526dafc4-7080-4220-bc68-b08044df0fc9",
   "metadata": {},
   "outputs": [
    {
     "data": {
      "image/png": "[encoded data removed]",
      "text/plain": [
       "<Figure size 640x480 with 1 Axes>"
      ]
     },
     "metadata": {},
     "output_type": "display_data"
    }
   ],
   "source": [
    "# plotting scatter plot to identify relationship between bike's age and its price \n",
    "\n",
    "x=df['year']\n",
    "y=df['selling_price']\n",
    "plt.scatter(x, y, color='green' )\n",
    "plt.title(\"relationship between bike age and selling price\")\n",
    "plt.xlabel(\"Year\")\n",
    "plt.ylabel(\"Selling Price \")\n",
    "plt.show()"
   ]
  },
  {
   "cell_type": "markdown",
   "id": "825d5928-37f1-49e3-9ecc-4a02681f9395",
   "metadata": {},
   "source": [
    "#### Question 8: Convert the seller_type column into numeric format using one-hot encoding. Display the first 5 rows of the resulting DataFrame.\n"
   ]
  },
  {
   "cell_type": "code",
   "execution_count": 152,
   "id": "32bc857d-7875-4576-9769-93ff28506e56",
   "metadata": {},
   "outputs": [],
   "source": [
    "#calling libraries\n",
    "\n",
    "import numpy as np \n",
    "import pandas as pd \n"
   ]
  },
  {
   "cell_type": "code",
   "execution_count": 148,
   "id": "7d7f2c09-5016-45c5-831c-fe7c64a4a517",
   "metadata": {},
   "outputs": [],
   "source": [
    "df=pd.read_csv(\"BIKE DETAILS.csv\")"
   ]
  },
  {
   "cell_type": "code",
   "execution_count": 153,
   "id": "a0eee680-b314-44ba-94e6-75838c48595f",
   "metadata": {},
   "outputs": [
    {
     "data": {
      "text/html": [
       "<div>\n",
       "<style scoped>\n",
       "    .dataframe tbody tr th:only-of-type {\n",
       "        vertical-align: middle;\n",
       "    }\n",
       "\n",
       "    .dataframe tbody tr th {\n",
       "        vertical-align: top;\n",
       "    }\n",
       "\n",
       "    .dataframe thead th {\n",
       "        text-align: right;\n",
       "    }\n",
       "</style>\n",
       "<table border=\"1\" class=\"dataframe\">\n",
       "  <thead>\n",
       "    <tr style=\"text-align: right;\">\n",
       "      <th></th>\n",
       "      <th>name</th>\n",
       "      <th>selling_price</th>\n",
       "      <th>year</th>\n",
       "      <th>seller_type</th>\n",
       "      <th>owner</th>\n",
       "      <th>km_driven</th>\n",
       "      <th>ex_showroom_price</th>\n",
       "    </tr>\n",
       "  </thead>\n",
       "  <tbody>\n",
       "    <tr>\n",
       "      <th>0</th>\n",
       "      <td>Royal Enfield Classic 350</td>\n",
       "      <td>175000</td>\n",
       "      <td>2019</td>\n",
       "      <td>Individual</td>\n",
       "      <td>1st owner</td>\n",
       "      <td>350</td>\n",
       "      <td>NaN</td>\n",
       "    </tr>\n",
       "    <tr>\n",
       "      <th>1</th>\n",
       "      <td>Honda Dio</td>\n",
       "      <td>45000</td>\n",
       "      <td>2017</td>\n",
       "      <td>Individual</td>\n",
       "      <td>1st owner</td>\n",
       "      <td>5650</td>\n",
       "      <td>NaN</td>\n",
       "    </tr>\n",
       "    <tr>\n",
       "      <th>2</th>\n",
       "      <td>Royal Enfield Classic Gunmetal Grey</td>\n",
       "      <td>150000</td>\n",
       "      <td>2018</td>\n",
       "      <td>Individual</td>\n",
       "      <td>1st owner</td>\n",
       "      <td>12000</td>\n",
       "      <td>148114.0</td>\n",
       "    </tr>\n",
       "    <tr>\n",
       "      <th>3</th>\n",
       "      <td>Yamaha Fazer FI V 2.0 [2016-2018]</td>\n",
       "      <td>65000</td>\n",
       "      <td>2015</td>\n",
       "      <td>Individual</td>\n",
       "      <td>1st owner</td>\n",
       "      <td>23000</td>\n",
       "      <td>89643.0</td>\n",
       "    </tr>\n",
       "    <tr>\n",
       "      <th>4</th>\n",
       "      <td>Yamaha SZ [2013-2014]</td>\n",
       "      <td>20000</td>\n",
       "      <td>2011</td>\n",
       "      <td>Individual</td>\n",
       "      <td>2nd owner</td>\n",
       "      <td>21000</td>\n",
       "      <td>NaN</td>\n",
       "    </tr>\n",
       "  </tbody>\n",
       "</table>\n",
       "</div>"
      ],
      "text/plain": [
       "                                  name  selling_price  year seller_type  \\\n",
       "0            Royal Enfield Classic 350         175000  2019  Individual   \n",
       "1                            Honda Dio          45000  2017  Individual   \n",
       "2  Royal Enfield Classic Gunmetal Grey         150000  2018  Individual   \n",
       "3    Yamaha Fazer FI V 2.0 [2016-2018]          65000  2015  Individual   \n",
       "4                Yamaha SZ [2013-2014]          20000  2011  Individual   \n",
       "\n",
       "       owner  km_driven  ex_showroom_price  \n",
       "0  1st owner        350                NaN  \n",
       "1  1st owner       5650                NaN  \n",
       "2  1st owner      12000           148114.0  \n",
       "3  1st owner      23000            89643.0  \n",
       "4  2nd owner      21000                NaN  "
      ]
     },
     "execution_count": 153,
     "metadata": {},
     "output_type": "execute_result"
    }
   ],
   "source": [
    "#fetching top 5 rows \n",
    "df.head()"
   ]
  },
  {
   "cell_type": "code",
   "execution_count": 154,
   "id": "c1a31947-7be9-43a7-bddf-30840f5b1f2e",
   "metadata": {},
   "outputs": [],
   "source": [
    "#Applying one-hot encoding to the 'seller_type' column\n",
    "\n",
    "df_encode= pd.get_dummies(df, columns=['seller_type'], drop_first=False)"
   ]
  },
  {
   "cell_type": "code",
   "execution_count": 155,
   "id": "3e482b6b-0267-474b-be79-0fc2d6ccd994",
   "metadata": {},
   "outputs": [
    {
     "data": {
      "text/html": [
       "<div>\n",
       "<style scoped>\n",
       "    .dataframe tbody tr th:only-of-type {\n",
       "        vertical-align: middle;\n",
       "    }\n",
       "\n",
       "    .dataframe tbody tr th {\n",
       "        vertical-align: top;\n",
       "    }\n",
       "\n",
       "    .dataframe thead th {\n",
       "        text-align: right;\n",
       "    }\n",
       "</style>\n",
       "<table border=\"1\" class=\"dataframe\">\n",
       "  <thead>\n",
       "    <tr style=\"text-align: right;\">\n",
       "      <th></th>\n",
       "      <th>name</th>\n",
       "      <th>selling_price</th>\n",
       "      <th>year</th>\n",
       "      <th>owner</th>\n",
       "      <th>km_driven</th>\n",
       "      <th>ex_showroom_price</th>\n",
       "      <th>seller_type_Dealer</th>\n",
       "      <th>seller_type_Individual</th>\n",
       "    </tr>\n",
       "  </thead>\n",
       "  <tbody>\n",
       "    <tr>\n",
       "      <th>0</th>\n",
       "      <td>Royal Enfield Classic 350</td>\n",
       "      <td>175000</td>\n",
       "      <td>2019</td>\n",
       "      <td>1st owner</td>\n",
       "      <td>350</td>\n",
       "      <td>NaN</td>\n",
       "      <td>False</td>\n",
       "      <td>True</td>\n",
       "    </tr>\n",
       "    <tr>\n",
       "      <th>1</th>\n",
       "      <td>Honda Dio</td>\n",
       "      <td>45000</td>\n",
       "      <td>2017</td>\n",
       "      <td>1st owner</td>\n",
       "      <td>5650</td>\n",
       "      <td>NaN</td>\n",
       "      <td>False</td>\n",
       "      <td>True</td>\n",
       "    </tr>\n",
       "    <tr>\n",
       "      <th>2</th>\n",
       "      <td>Royal Enfield Classic Gunmetal Grey</td>\n",
       "      <td>150000</td>\n",
       "      <td>2018</td>\n",
       "      <td>1st owner</td>\n",
       "      <td>12000</td>\n",
       "      <td>148114.0</td>\n",
       "      <td>False</td>\n",
       "      <td>True</td>\n",
       "    </tr>\n",
       "    <tr>\n",
       "      <th>3</th>\n",
       "      <td>Yamaha Fazer FI V 2.0 [2016-2018]</td>\n",
       "      <td>65000</td>\n",
       "      <td>2015</td>\n",
       "      <td>1st owner</td>\n",
       "      <td>23000</td>\n",
       "      <td>89643.0</td>\n",
       "      <td>False</td>\n",
       "      <td>True</td>\n",
       "    </tr>\n",
       "    <tr>\n",
       "      <th>4</th>\n",
       "      <td>Yamaha SZ [2013-2014]</td>\n",
       "      <td>20000</td>\n",
       "      <td>2011</td>\n",
       "      <td>2nd owner</td>\n",
       "      <td>21000</td>\n",
       "      <td>NaN</td>\n",
       "      <td>False</td>\n",
       "      <td>True</td>\n",
       "    </tr>\n",
       "  </tbody>\n",
       "</table>\n",
       "</div>"
      ],
      "text/plain": [
       "                                  name  selling_price  year      owner  \\\n",
       "0            Royal Enfield Classic 350         175000  2019  1st owner   \n",
       "1                            Honda Dio          45000  2017  1st owner   \n",
       "2  Royal Enfield Classic Gunmetal Grey         150000  2018  1st owner   \n",
       "3    Yamaha Fazer FI V 2.0 [2016-2018]          65000  2015  1st owner   \n",
       "4                Yamaha SZ [2013-2014]          20000  2011  2nd owner   \n",
       "\n",
       "   km_driven  ex_showroom_price  seller_type_Dealer  seller_type_Individual  \n",
       "0        350                NaN               False                    True  \n",
       "1       5650                NaN               False                    True  \n",
       "2      12000           148114.0               False                    True  \n",
       "3      23000            89643.0               False                    True  \n",
       "4      21000                NaN               False                    True  "
      ]
     },
     "execution_count": 155,
     "metadata": {},
     "output_type": "execute_result"
    }
   ],
   "source": [
    "# Displaying first 5 rows of the new DataFrame\n",
    "df_encode.head()"
   ]
  },
  {
   "cell_type": "markdown",
   "id": "16b0d954-4642-449c-9de3-55a5c731036f",
   "metadata": {},
   "source": [
    "#### Question 9: Generate a heatmap of the correlation matrix for all numeric columns. What correlations stand out the most?"
   ]
  },
  {
   "cell_type": "code",
   "execution_count": 169,
   "id": "b9c6e40a-883f-4e04-8b1d-344352c9ff89",
   "metadata": {},
   "outputs": [],
   "source": [
    "# Calling libraries \n",
    "\n",
    "import numpy as np \n",
    "import pandas as pd \n",
    "import matplotlib.pyplot as plt \n",
    "\n",
    "import warnings \n",
    "warnings.filterwarnings('ignore')"
   ]
  },
  {
   "cell_type": "code",
   "execution_count": 162,
   "id": "7014193a-1c05-46c1-b28c-ab38358bbca5",
   "metadata": {},
   "outputs": [],
   "source": [
    "df=pd.read_csv(\"BIKE DETAILS.csv\")"
   ]
  },
  {
   "cell_type": "code",
   "execution_count": 163,
   "id": "f171cb54-38a1-404a-8e22-bebb916bb5e1",
   "metadata": {},
   "outputs": [],
   "source": [
    "numeric_df= df.select_dtypes(include=['number'])"
   ]
  },
  {
   "cell_type": "code",
   "execution_count": 164,
   "id": "438c502d-c80b-4afd-8615-c1eb1f4954ad",
   "metadata": {},
   "outputs": [],
   "source": [
    "corr_matrix= numeric_df.corr()"
   ]
  },
  {
   "cell_type": "code",
   "execution_count": 168,
   "id": "5a281a94-27d3-4eb8-9d43-e5f46ff05ae7",
   "metadata": {},
   "outputs": [
    {
     "data": {
      "image/png": "[encoded data removed]",
      "text/plain": [
       "<Figure size 1000x600 with 2 Axes>"
      ]
     },
     "metadata": {},
     "output_type": "display_data"
    }
   ],
   "source": [
    "# Set up the figure size\n",
    "plt.figure(figsize=(10,6))\n",
    "\n",
    "#Generate Heatmap\n",
    "sns.heatmap(corr_matrix, annot=True, cmap=\"coolwarm\", fmt=\".2f\")\n",
    "\n",
    "#Add title\n",
    "plt.title(\"Correlation Heatmap of numeric Columns \", fontsize=14)\n",
    "plt.show()"
   ]
  },
  {
   "cell_type": "markdown",
   "id": "9ed18b1b-6d63-4931-9a85-486002ec98aa",
   "metadata": {},
   "source": [
    "#### Question 10: Summarize your findings in a brief report:\n",
    "#### ● What are the most important factors affecting a bike's selling price?\n",
    "#### ● Mention any data cleaning or feature engineering you performed.\n"
   ]
  },
  {
   "cell_type": "code",
   "execution_count": 172,
   "id": "ada680bc-c42d-4195-a30d-41fb6e044f3b",
   "metadata": {},
   "outputs": [
    {
     "data": {
      "image/png": "[encoded data removed]",
      "text/plain": [
       "<Figure size 1000x600 with 2 Axes>"
      ]
     },
     "metadata": {},
     "output_type": "display_data"
    },
    {
     "name": "stdout",
     "output_type": "stream",
     "text": [
      "\n",
      "Missing Values Before Cleaning:\n",
      " name                   0\n",
      "selling_price          0\n",
      "year                   0\n",
      "seller_type            0\n",
      "owner                  0\n",
      "km_driven              0\n",
      "ex_showroom_price    435\n",
      "dtype: int64\n",
      "\n",
      "Missing Values After Cleaning:\n",
      " name                 0\n",
      "selling_price        0\n",
      "year                 0\n",
      "seller_type          0\n",
      "owner                0\n",
      "km_driven            0\n",
      "ex_showroom_price    0\n",
      "dtype: int64\n",
      "\n",
      "Outliers Removed from 'km_driven': 39\n",
      "\n",
      "First 5 Rows After Encoding Seller Type:\n",
      "                                   name  selling_price  year      owner  \\\n",
      "0            Royal Enfield Classic 350         175000  2019  1st owner   \n",
      "1                            Honda Dio          45000  2017  1st owner   \n",
      "2  Royal Enfield Classic Gunmetal Grey         150000  2018  1st owner   \n",
      "3    Yamaha Fazer FI V 2.0 [2016-2018]          65000  2015  1st owner   \n",
      "4                Yamaha SZ [2013-2014]          20000  2011  2nd owner   \n",
      "\n",
      "   km_driven  ex_showroom_price  seller_type_Dealer  seller_type_Individual  \n",
      "0        350            72752.5               False                    True  \n",
      "1       5650            72752.5               False                    True  \n",
      "2      12000           148114.0               False                    True  \n",
      "3      23000            89643.0               False                    True  \n",
      "4      21000            72752.5               False                    True  \n",
      "\n",
      "===== SUMMARY OF FINDINGS =====\n",
      "\n",
      "1. Newer bikes have higher selling prices (Year ↑ → Price ↑).\n",
      "2. Higher ex-showroom price leads to higher resale value.\n",
      "3. More kilometers driven decreases resale price.\n",
      "4. Dealer and Trustmark Dealer bikes generally have higher prices than individuals.\n",
      "5. First-owner bikes are sold at higher prices than second or third-owner bikes.\n",
      "\n",
      "Most significant factors affecting selling price: Year, Ex-Showroom Price, Km Driven.\n"
     ]
    }
   ],
   "source": [
    "\n",
    "# BIKE SELLING PRICE ANALYSIS - FINAL REPORT\n",
    "\n",
    "\n",
    "import pandas as pd\n",
    "import seaborn as sns\n",
    "import matplotlib.pyplot as plt\n",
    "\n",
    "# Load dataset\n",
    "df = pd.read_csv(\"BIKE DETAILS.csv\")\n",
    "\n",
    "\n",
    "# 1. Check Correlation of Numeric Features\n",
    "\n",
    "numeric_df = df.select_dtypes(include=['number'])\n",
    "corr_matrix = numeric_df.corr()\n",
    "\n",
    "plt.figure(figsize=(10, 6))\n",
    "sns.heatmap(corr_matrix, annot=True, cmap=\"coolwarm\", fmt=\".2f\")\n",
    "plt.title(\"Correlation Heatmap of Numeric Columns\")\n",
    "plt.show()\n",
    "\n",
    "\n",
    "# 2. Data Cleaning Steps\n",
    "\n",
    "\n",
    "# Check missing values\n",
    "print(\"\\nMissing Values Before Cleaning:\\n\", df.isnull().sum())\n",
    "\n",
    "# Fill missing numeric values with median\n",
    "df.fillna(df.median(numeric_only=True), inplace=True)\n",
    "\n",
    "# Fill missing categorical values with mode\n",
    "for col in df.select_dtypes(include='object').columns:\n",
    "    df[col].fillna(df[col].mode()[0], inplace=True)\n",
    "\n",
    "print(\"\\nMissing Values After Cleaning:\\n\", df.isnull().sum())\n",
    "\n",
    "# Outlier Removal using IQR for 'km_driven'\n",
    "Q1 = df['km_driven'].quantile(0.25)\n",
    "Q3 = df['km_driven'].quantile(0.75)\n",
    "IQR = Q3 - Q1\n",
    "lower_limit = Q1 - 1.5 * IQR\n",
    "upper_limit = Q3 + 1.5 * IQR\n",
    "\n",
    "df_no_outliers = df[(df['km_driven'] >= lower_limit) & (df['km_driven'] <= upper_limit)]\n",
    "outliers_removed = len(df) - len(df_no_outliers)\n",
    "print(f\"\\nOutliers Removed from 'km_driven': {outliers_removed}\")\n",
    "\n",
    "\n",
    "# 3. Feature Engineering - One Hot Encoding for Seller Type\n",
    "\n",
    "df_encoded = pd.get_dummies(df, columns=['seller_type'], drop_first=False)\n",
    "print(\"\\nFirst 5 Rows After Encoding Seller Type:\\n\", df_encoded.head())\n",
    "\n",
    "# 4. Insights from Analysis\n",
    "\n",
    "print(\"\\n===== SUMMARY OF FINDINGS =====\\n\")\n",
    "print(\"1. Newer bikes have higher selling prices (Year ↑ → Price ↑).\")\n",
    "print(\"2. Higher ex-showroom price leads to higher resale value.\")\n",
    "print(\"3. More kilometers driven decreases resale price.\")\n",
    "print(\"4. Dealer and Trustmark Dealer bikes generally have higher prices than individuals.\")\n",
    "print(\"5. First-owner bikes are sold at higher prices than second or third-owner bikes.\")\n",
    "print(\"\\nMost significant factors affecting selling price: Year, Ex-Showroom Price, Km Driven.\")\n"
   ]
  },
  {
   "cell_type": "code",
   "execution_count": null,
   "id": "b329e9fd-1d26-45b7-8fe7-e325dc8a401a",
   "metadata": {},
   "outputs": [],
   "source": []
  }
 ],
 "metadata": {
  "kernelspec": {
   "display_name": "Python [conda env:base] *",
   "language": "python",
   "name": "conda-base-py"
  },
  "language_info": {
   "codemirror_mode": {
    "name": "ipython",
    "version": 3
   },
   "file_extension": ".py",
   "mimetype": "text/x-python",
   "name": "python",
   "nbconvert_exporter": "python",
   "pygments_lexer": "ipython3",
   "version": "3.12.7"
  }
 },
 "nbformat": 4,
 "nbformat_minor": 5
}
